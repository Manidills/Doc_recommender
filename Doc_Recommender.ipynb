{
  "nbformat": 4,
  "nbformat_minor": 0,
  "metadata": {
    "colab": {
      "name": "Doc Recommender",
      "provenance": []
    },
    "kernelspec": {
      "name": "python3",
      "display_name": "Python 3"
    },
    "accelerator": "GPU"
  },
  "cells": [
    {
      "cell_type": "code",
      "metadata": {
        "id": "dZ6tUyb05Blo",
        "colab_type": "code",
        "colab": {}
      },
      "source": [
        "%matplotlib inline\n",
        "import os\n",
        "import numpy as np\n",
        "import pandas as pd\n",
        "pd.set_option('display.max_colwidth', -1)\n"
      ],
      "execution_count": 0,
      "outputs": []
    },
    {
      "cell_type": "code",
      "metadata": {
        "id": "ePloi8Qc5Rzm",
        "colab_type": "code",
        "colab": {
          "base_uri": "https://localhost:8080/",
          "height": 1000
        },
        "outputId": "dd3d8b51-0073-4299-ca41-bf54ab90cf60"
      },
      "source": [
        "!pip install ktrain"
      ],
      "execution_count": 2,
      "outputs": [
        {
          "output_type": "stream",
          "text": [
            "Collecting ktrain\n",
            "\u001b[?25l  Downloading https://files.pythonhosted.org/packages/17/40/bb9a34bfd0e8e6f6f763fb3f97b61734b1a868fce66ef7e8ab65a71120de/ktrain-0.7.2.tar.gz (88kB)\n",
            "\u001b[K     |████████████████████████████████| 92kB 2.8MB/s \n",
            "\u001b[?25hRequirement already satisfied: scikit-learn==0.21.3 in /usr/local/lib/python3.6/dist-packages (from ktrain) (0.21.3)\n",
            "Requirement already satisfied: matplotlib>=3.0.0 in /usr/local/lib/python3.6/dist-packages (from ktrain) (3.1.2)\n",
            "Requirement already satisfied: pandas>=0.24.2 in /usr/local/lib/python3.6/dist-packages (from ktrain) (0.25.3)\n",
            "Requirement already satisfied: fastprogress>=0.1.21 in /usr/local/lib/python3.6/dist-packages (from ktrain) (0.1.22)\n",
            "Collecting keras_bert\n",
            "  Downloading https://files.pythonhosted.org/packages/df/fe/bf46de1ef9d1395cd735d8df5402f5d837ef82cfd348a252ad8f32feeaef/keras-bert-0.80.0.tar.gz\n",
            "Requirement already satisfied: requests in /usr/local/lib/python3.6/dist-packages (from ktrain) (2.21.0)\n",
            "Requirement already satisfied: joblib in /usr/local/lib/python3.6/dist-packages (from ktrain) (0.14.0)\n",
            "Collecting langdetect\n",
            "\u001b[?25l  Downloading https://files.pythonhosted.org/packages/59/59/4bc44158a767a6d66de18c4136c8aa90491d56cc951c10b74dd1e13213c9/langdetect-1.0.7.zip (998kB)\n",
            "\u001b[K     |████████████████████████████████| 1.0MB 8.8MB/s \n",
            "\u001b[?25hRequirement already satisfied: jieba in /usr/local/lib/python3.6/dist-packages (from ktrain) (0.39)\n",
            "Collecting cchardet\n",
            "\u001b[?25l  Downloading https://files.pythonhosted.org/packages/fa/4e/847feebfc3e71c773b23ee06c74687b8c50a5a6d6aaff452a0a4f4eb9a32/cchardet-2.1.5-cp36-cp36m-manylinux1_x86_64.whl (241kB)\n",
            "\u001b[K     |████████████████████████████████| 245kB 26.5MB/s \n",
            "\u001b[?25hCollecting networkx==2.3\n",
            "\u001b[?25l  Downloading https://files.pythonhosted.org/packages/85/08/f20aef11d4c343b557e5de6b9548761811eb16e438cee3d32b1c66c8566b/networkx-2.3.zip (1.7MB)\n",
            "\u001b[K     |████████████████████████████████| 1.8MB 39.8MB/s \n",
            "\u001b[?25hRequirement already satisfied: bokeh in /usr/local/lib/python3.6/dist-packages (from ktrain) (1.0.4)\n",
            "Collecting seqeval\n",
            "  Downloading https://files.pythonhosted.org/packages/34/91/068aca8d60ce56dd9ba4506850e876aba5e66a6f2f29aa223224b50df0de/seqeval-0.0.12.tar.gz\n",
            "Requirement already satisfied: packaging in /usr/local/lib/python3.6/dist-packages (from ktrain) (19.2)\n",
            "Requirement already satisfied: numpy>=1.11.0 in /usr/local/lib/python3.6/dist-packages (from scikit-learn==0.21.3->ktrain) (1.17.4)\n",
            "Requirement already satisfied: scipy>=0.17.0 in /usr/local/lib/python3.6/dist-packages (from scikit-learn==0.21.3->ktrain) (1.3.3)\n",
            "Requirement already satisfied: pyparsing!=2.0.4,!=2.1.2,!=2.1.6,>=2.0.1 in /usr/local/lib/python3.6/dist-packages (from matplotlib>=3.0.0->ktrain) (2.4.5)\n",
            "Requirement already satisfied: python-dateutil>=2.1 in /usr/local/lib/python3.6/dist-packages (from matplotlib>=3.0.0->ktrain) (2.6.1)\n",
            "Requirement already satisfied: kiwisolver>=1.0.1 in /usr/local/lib/python3.6/dist-packages (from matplotlib>=3.0.0->ktrain) (1.1.0)\n",
            "Requirement already satisfied: cycler>=0.10 in /usr/local/lib/python3.6/dist-packages (from matplotlib>=3.0.0->ktrain) (0.10.0)\n",
            "Requirement already satisfied: pytz>=2017.2 in /usr/local/lib/python3.6/dist-packages (from pandas>=0.24.2->ktrain) (2018.9)\n",
            "Requirement already satisfied: Keras in /usr/local/lib/python3.6/dist-packages (from keras_bert->ktrain) (2.2.5)\n",
            "Collecting keras-transformer>=0.30.0\n",
            "  Downloading https://files.pythonhosted.org/packages/0a/57/496b1eab888171b0801a0a44d3245a7874b8d1cc04c1fbfdbb5e3327fc7a/keras-transformer-0.31.0.tar.gz\n",
            "Requirement already satisfied: idna<2.9,>=2.5 in /usr/local/lib/python3.6/dist-packages (from requests->ktrain) (2.8)\n",
            "Requirement already satisfied: chardet<3.1.0,>=3.0.2 in /usr/local/lib/python3.6/dist-packages (from requests->ktrain) (3.0.4)\n",
            "Requirement already satisfied: urllib3<1.25,>=1.21.1 in /usr/local/lib/python3.6/dist-packages (from requests->ktrain) (1.24.3)\n",
            "Requirement already satisfied: certifi>=2017.4.17 in /usr/local/lib/python3.6/dist-packages (from requests->ktrain) (2019.11.28)\n",
            "Requirement already satisfied: six in /usr/local/lib/python3.6/dist-packages (from langdetect->ktrain) (1.12.0)\n",
            "Requirement already satisfied: decorator>=4.3.0 in /usr/local/lib/python3.6/dist-packages (from networkx==2.3->ktrain) (4.4.1)\n",
            "Requirement already satisfied: Jinja2>=2.7 in /usr/local/lib/python3.6/dist-packages (from bokeh->ktrain) (2.10.3)\n",
            "Requirement already satisfied: pillow>=4.0 in /usr/local/lib/python3.6/dist-packages (from bokeh->ktrain) (4.3.0)\n",
            "Requirement already satisfied: PyYAML>=3.10 in /usr/local/lib/python3.6/dist-packages (from bokeh->ktrain) (3.13)\n",
            "Requirement already satisfied: tornado>=4.3 in /usr/local/lib/python3.6/dist-packages (from bokeh->ktrain) (4.5.3)\n",
            "Requirement already satisfied: setuptools in /usr/local/lib/python3.6/dist-packages (from kiwisolver>=1.0.1->matplotlib>=3.0.0->ktrain) (42.0.2)\n",
            "Requirement already satisfied: keras-applications>=1.0.8 in /usr/local/lib/python3.6/dist-packages (from Keras->keras_bert->ktrain) (1.0.8)\n",
            "Requirement already satisfied: keras-preprocessing>=1.1.0 in /usr/local/lib/python3.6/dist-packages (from Keras->keras_bert->ktrain) (1.1.0)\n",
            "Requirement already satisfied: h5py in /usr/local/lib/python3.6/dist-packages (from Keras->keras_bert->ktrain) (2.8.0)\n",
            "Collecting keras-pos-embd>=0.10.0\n",
            "  Downloading https://files.pythonhosted.org/packages/09/70/b63ed8fc660da2bb6ae29b9895401c628da5740c048c190b5d7107cadd02/keras-pos-embd-0.11.0.tar.gz\n",
            "Collecting keras-multi-head>=0.22.0\n",
            "  Downloading https://files.pythonhosted.org/packages/40/3e/d0a64bb2ac5217928effe4507c26bbd19b86145d16a1948bc2d4f4c6338a/keras-multi-head-0.22.0.tar.gz\n",
            "Collecting keras-layer-normalization>=0.12.0\n",
            "  Downloading https://files.pythonhosted.org/packages/a4/0e/d1078df0494bac9ce1a67954e5380b6e7569668f0f3b50a9531c62c1fc4a/keras-layer-normalization-0.14.0.tar.gz\n",
            "Collecting keras-position-wise-feed-forward>=0.5.0\n",
            "  Downloading https://files.pythonhosted.org/packages/e3/59/f0faa1037c033059e7e9e7758e6c23b4d1c0772cd48de14c4b6fd4033ad5/keras-position-wise-feed-forward-0.6.0.tar.gz\n",
            "Collecting keras-embed-sim>=0.7.0\n",
            "  Downloading https://files.pythonhosted.org/packages/bc/20/735fd53f6896e2af63af47e212601c1b8a7a80d00b6126c388c9d1233892/keras-embed-sim-0.7.0.tar.gz\n",
            "Requirement already satisfied: MarkupSafe>=0.23 in /usr/local/lib/python3.6/dist-packages (from Jinja2>=2.7->bokeh->ktrain) (1.1.1)\n",
            "Requirement already satisfied: olefile in /usr/local/lib/python3.6/dist-packages (from pillow>=4.0->bokeh->ktrain) (0.46)\n",
            "Collecting keras-self-attention==0.41.0\n",
            "  Downloading https://files.pythonhosted.org/packages/1b/1c/01599219bef7266fa43b3316e4f55bcb487734d3bafdc60ffd564f3cfe29/keras-self-attention-0.41.0.tar.gz\n",
            "Building wheels for collected packages: ktrain, keras-bert, langdetect, networkx, seqeval, keras-transformer, keras-pos-embd, keras-multi-head, keras-layer-normalization, keras-position-wise-feed-forward, keras-embed-sim, keras-self-attention\n",
            "  Building wheel for ktrain (setup.py) ... \u001b[?25l\u001b[?25hdone\n",
            "  Created wheel for ktrain: filename=ktrain-0.7.2-cp36-none-any.whl size=113492 sha256=8ab0c0b87c44d727d148b642c1fa14c84a462e1729ab42484a16d3c1530e3ceb\n",
            "  Stored in directory: /root/.cache/pip/wheels/ed/db/bd/fb2cb12563e8a7e5ef04f99cc9014bc0e509f1bb3834e6ee5d\n",
            "  Building wheel for keras-bert (setup.py) ... \u001b[?25l\u001b[?25hdone\n",
            "  Created wheel for keras-bert: filename=keras_bert-0.80.0-cp36-none-any.whl size=37923 sha256=c915dfcd0c62dd205305d1128e09bddbe6f6cd041cb8b34c3793252de5d9bce4\n",
            "  Stored in directory: /root/.cache/pip/wheels/63/dc/87/3260cb91f3aa32c0f85c5375429a30c8fd988bbb48f5ee21b0\n",
            "  Building wheel for langdetect (setup.py) ... \u001b[?25l\u001b[?25hdone\n",
            "  Created wheel for langdetect: filename=langdetect-1.0.7-cp36-none-any.whl size=993460 sha256=2f41a86deb87a143b60d4713e39985afa6c6f3fcd4fc05aa13f7d0322e8f3ba5\n",
            "  Stored in directory: /root/.cache/pip/wheels/ec/0c/a9/1647275e7ef5014e7b83ff30105180e332867d65e7617ddafe\n",
            "  Building wheel for networkx (setup.py) ... \u001b[?25l\u001b[?25hdone\n",
            "  Created wheel for networkx: filename=networkx-2.3-py2.py3-none-any.whl size=1556408 sha256=702eb58c833a8a234b32098e2b4113f2034ebaed821f731e5940e88664fe046a\n",
            "  Stored in directory: /root/.cache/pip/wheels/de/63/64/3699be2a9d0ccdb37c7f16329acf3863fd76eda58c39c737af\n",
            "  Building wheel for seqeval (setup.py) ... \u001b[?25l\u001b[?25hdone\n",
            "  Created wheel for seqeval: filename=seqeval-0.0.12-cp36-none-any.whl size=7424 sha256=dbee405b3f92306e67056cd91d28fc5ca5850d074b3e1a586d04e4d40dccfcf6\n",
            "  Stored in directory: /root/.cache/pip/wheels/4f/32/0a/df3b340a82583566975377d65e724895b3fad101a3fb729f68\n",
            "  Building wheel for keras-transformer (setup.py) ... \u001b[?25l\u001b[?25hdone\n",
            "  Created wheel for keras-transformer: filename=keras_transformer-0.31.0-cp36-none-any.whl size=13385 sha256=f40e9eec88d1664f5e14bc9542e5f95aa0df7b2f856de310738ec49de400cecb\n",
            "  Stored in directory: /root/.cache/pip/wheels/a3/c5/9a/5a5130240be614a7a6fa786765d7692ae97f82601e2161bb56\n",
            "  Building wheel for keras-pos-embd (setup.py) ... \u001b[?25l\u001b[?25hdone\n",
            "  Created wheel for keras-pos-embd: filename=keras_pos_embd-0.11.0-cp36-none-any.whl size=7553 sha256=b228bff4d32810439feb5a00cdc960778cbcfc46cd9e9ef670323281aa4ed491\n",
            "  Stored in directory: /root/.cache/pip/wheels/5b/a1/a0/ce6b1d49ba1a9a76f592e70cf297b05c96bc9f418146761032\n",
            "  Building wheel for keras-multi-head (setup.py) ... \u001b[?25l\u001b[?25hdone\n",
            "  Created wheel for keras-multi-head: filename=keras_multi_head-0.22.0-cp36-none-any.whl size=15371 sha256=5791aa0bc68767f45048170a652d9395c290584da15c2d0dbc51d33595f7c93c\n",
            "  Stored in directory: /root/.cache/pip/wheels/bb/df/3f/81b36f41b66e6a9cd69224c70a737de2bb6b2f7feb3272c25e\n",
            "  Building wheel for keras-layer-normalization (setup.py) ... \u001b[?25l\u001b[?25hdone\n",
            "  Created wheel for keras-layer-normalization: filename=keras_layer_normalization-0.14.0-cp36-none-any.whl size=5268 sha256=1851eb50a0e85fad291ee8e68d5cb09a02c3d10a3901cae38617c3bc4adc62f3\n",
            "  Stored in directory: /root/.cache/pip/wheels/54/80/22/a638a7d406fd155e507aa33d703e3fa2612b9eb7bb4f4fe667\n",
            "  Building wheel for keras-position-wise-feed-forward (setup.py) ... \u001b[?25l\u001b[?25hdone\n",
            "  Created wheel for keras-position-wise-feed-forward: filename=keras_position_wise_feed_forward-0.6.0-cp36-none-any.whl size=5624 sha256=5a184674d6cd2f0341da42251617ba2701622382ca2d670ed12d50d5adcbfa9a\n",
            "  Stored in directory: /root/.cache/pip/wheels/39/e2/e2/3514fef126a00574b13bc0b9e23891800158df3a3c19c96e3b\n",
            "  Building wheel for keras-embed-sim (setup.py) ... \u001b[?25l\u001b[?25hdone\n",
            "  Created wheel for keras-embed-sim: filename=keras_embed_sim-0.7.0-cp36-none-any.whl size=4676 sha256=518a778a3f44b496b125085c5b89391ad8b357203cba9de3296dfcc0282c1899\n",
            "  Stored in directory: /root/.cache/pip/wheels/d1/bc/b1/b0c45cee4ca2e6c86586b0218ffafe7f0703c6d07fdf049866\n",
            "  Building wheel for keras-self-attention (setup.py) ... \u001b[?25l\u001b[?25hdone\n",
            "  Created wheel for keras-self-attention: filename=keras_self_attention-0.41.0-cp36-none-any.whl size=17290 sha256=2fc0d6ed2b55e1712d556f4774d528f2c23b2255b1b954bc4c8af1311f4b5616\n",
            "  Stored in directory: /root/.cache/pip/wheels/cc/dc/17/84258b27a04cd38ac91998abe148203720ca696186635db694\n",
            "Successfully built ktrain keras-bert langdetect networkx seqeval keras-transformer keras-pos-embd keras-multi-head keras-layer-normalization keras-position-wise-feed-forward keras-embed-sim keras-self-attention\n",
            "\u001b[31mERROR: albumentations 0.1.12 has requirement imgaug<0.2.7,>=0.2.5, but you'll have imgaug 0.2.9 which is incompatible.\u001b[0m\n",
            "Installing collected packages: keras-pos-embd, keras-self-attention, keras-multi-head, keras-layer-normalization, keras-position-wise-feed-forward, keras-embed-sim, keras-transformer, keras-bert, langdetect, cchardet, networkx, seqeval, ktrain\n",
            "  Found existing installation: networkx 2.4\n",
            "    Uninstalling networkx-2.4:\n",
            "      Successfully uninstalled networkx-2.4\n",
            "Successfully installed cchardet-2.1.5 keras-bert-0.80.0 keras-embed-sim-0.7.0 keras-layer-normalization-0.14.0 keras-multi-head-0.22.0 keras-pos-embd-0.11.0 keras-position-wise-feed-forward-0.6.0 keras-self-attention-0.41.0 keras-transformer-0.31.0 ktrain-0.7.2 langdetect-1.0.7 networkx-2.3 seqeval-0.0.12\n"
          ],
          "name": "stdout"
        }
      ]
    },
    {
      "cell_type": "code",
      "metadata": {
        "id": "uSSBh-lf5XNQ",
        "colab_type": "code",
        "colab": {
          "base_uri": "https://localhost:8080/",
          "height": 34
        },
        "outputId": "e0d00994-c2c6-49ba-a588-f293c5988b01"
      },
      "source": [
        "import ktrain\n",
        "ktrain.__version__"
      ],
      "execution_count": 29,
      "outputs": [
        {
          "output_type": "execute_result",
          "data": {
            "text/plain": [
              "'0.7.2'"
            ]
          },
          "metadata": {
            "tags": []
          },
          "execution_count": 29
        }
      ]
    },
    {
      "cell_type": "code",
      "metadata": {
        "id": "R3FUs7Gz_tqV",
        "colab_type": "code",
        "colab": {}
      },
      "source": [
        "from sklearn.datasets import fetch_20newsgroups\n",
        "remove = ('headers', 'footers', 'quotes')\n",
        "newsgroups_train = fetch_20newsgroups(subset='train', remove=remove)\n",
        "newsgroups_test = fetch_20newsgroups(subset='test', remove=remove)\n",
        "texts = newsgroups_train.data +  newsgroups_test.data"
      ],
      "execution_count": 0,
      "outputs": []
    },
    {
      "cell_type": "code",
      "metadata": {
        "id": "ta9WxGEsBlfo",
        "colab_type": "code",
        "colab": {
          "base_uri": "https://localhost:8080/",
          "height": 187
        },
        "outputId": "604defc3-d2b9-4fc2-ea77-6b589e6e6826"
      },
      "source": [
        "tm = ktrain.text.get_topic_model(texts, n_features=10000)"
      ],
      "execution_count": 31,
      "outputs": [
        {
          "output_type": "stream",
          "text": [
            "n_topics automatically set to 97\n",
            "lang: en\n",
            "preprocessing texts...\n",
            "fitting model...\n",
            "iteration: 1 of max_iter: 5\n",
            "iteration: 2 of max_iter: 5\n",
            "iteration: 3 of max_iter: 5\n",
            "iteration: 4 of max_iter: 5\n",
            "iteration: 5 of max_iter: 5\n",
            "done.\n"
          ],
          "name": "stdout"
        }
      ]
    },
    {
      "cell_type": "code",
      "metadata": {
        "id": "VYzwdyGdBqXf",
        "colab_type": "code",
        "colab": {
          "base_uri": "https://localhost:8080/",
          "height": 34
        },
        "outputId": "3bbd96c1-b9c3-44a1-9da8-049a86a48367"
      },
      "source": [
        "tm.build(texts, threshold=0.25)"
      ],
      "execution_count": 32,
      "outputs": [
        {
          "output_type": "stream",
          "text": [
            "done.\n"
          ],
          "name": "stdout"
        }
      ]
    },
    {
      "cell_type": "code",
      "metadata": {
        "id": "-h15ESr7CWr1",
        "colab_type": "code",
        "colab": {}
      },
      "source": [
        "tm.train_recommender()"
      ],
      "execution_count": 0,
      "outputs": []
    },
    {
      "cell_type": "code",
      "metadata": {
        "id": "XYBMDQUFCaWh",
        "colab_type": "code",
        "colab": {}
      },
      "source": [
        "rawtext = \"\"\"\n",
        "            Elon Musk leads Space Exploration Technologies (SpaceX), where he oversees\n",
        "            the development and manufacturing of advanced rockets and spacecraft for missions\n",
        "            to and beyond Earth orbit.\n",
        "            \"\"\""
      ],
      "execution_count": 0,
      "outputs": []
    },
    {
      "cell_type": "code",
      "metadata": {
        "id": "j8JphUvWCcQf",
        "colab_type": "code",
        "colab": {
          "base_uri": "https://localhost:8080/",
          "height": 241
        },
        "outputId": "d56d4ee2-2f27-4be1-80c3-b0a44d5edb03"
      },
      "source": [
        "for i, doc in enumerate(tm.recommend(text=rawtext, n=3)):\n",
        "    print('RESULT #%s'% (i+1))\n",
        "    print('TEXT:\\n\\t%s' % (\" \".join(doc[0].split()[:300])))\n",
        "    print()"
      ],
      "execution_count": 35,
      "outputs": [
        {
          "output_type": "stream",
          "text": [
            "RESULT #1\n",
            "TEXT:\n",
            "\tArchive-name: space/new_probes Last-modified: $Date: 93/04/01 14:39:17 $ UPCOMING PLANETARY PROBES - MISSIONS AND SCHEDULES Information on upcoming or currently active missions not mentioned below would be welcome. Sources: NASA fact sheets, Cassini Mission Design team, ISAS/NASDA launch schedules, press kits. ASUKA (ASTRO-D) - ISAS (Japan) X-ray astronomy satellite, launched into Earth orbit on 2/20/93. Equipped with large-area wide-wavelength (1-20 Angstrom) X-ray telescope, X-ray CCD cameras, and imaging gas scintillation proportional counters. CASSINI - Saturn orbiter and Titan atmosphere probe. Cassini is a joint NASA/ESA project designed to accomplish an exploration of the Saturnian system with its Cassini Saturn Orbiter and Huygens Titan Probe. Cassini is scheduled for launch aboard a Titan IV/Centaur in October of 1997. After gravity assists of Venus, Earth and Jupiter in a VVEJGA trajectory, the spacecraft will arrive at Saturn in June of 2004. Upon arrival, the Cassini spacecraft performs several maneuvers to achieve an orbit around Saturn. Near the end of this initial orbit, the Huygens Probe separates from the Orbiter and descends through the atmosphere of Titan. The Orbiter relays the Probe data to Earth for about 3 hours while the Probe enters and traverses the cloudy atmosphere to the surface. After the completion of the Probe mission, the Orbiter continues touring the Saturnian system for three and a half years. Titan synchronous orbit trajectories will allow about 35 flybys of Titan and targeted flybys of Iapetus, Dione and Enceladus. The objectives of the mission are threefold: conduct detailed studies of Saturn's atmosphere, rings and magnetosphere; conduct close-up studies of Saturn's satellites, and characterize Titan's atmosphere and surface. One of the most intriguing aspects of Titan is the possibility that its surface may be covered in part with lakes of liquid hydrocarbons that result from photochemical processes in its upper atmosphere. These hydrocarbons condense\n",
            "\n",
            "RESULT #2\n",
            "TEXT:\n",
            "\tArchive-name: space/schedule Last-modified: $Date: 93/04/01 14:39:23 $ SPACE SHUTTLE ANSWERS, LAUNCH SCHEDULES, TV COVERAGE SHUTTLE LAUNCHINGS AND LANDINGS; SCHEDULES AND HOW TO SEE THEM Shuttle operations are discussed in the Usenet group sci.space.shuttle, and Ken Hollis (gandalf@pro-electric.cts.com) posts a compressed version of the shuttle manifest (launch dates and other information) periodically there. The manifest is also available from the Ames SPACE archive in SPACE/FAQ/manifest. The portion of his manifest formerly included in this FAQ has been removed; please refer to his posting or the archived copy. For the most up to date information on upcoming missions, call (407) 867-INFO (867-4636) at Kennedy Space Center. Official NASA shuttle status reports are posted to sci.space.news frequently. WHY DOES THE SHUTTLE ROLL JUST AFTER LIFTOFF? The following answer and translation are provided by Ken Jenks (kjenks@gothamcity.jsc.nasa.gov). The \"Ascent Guidance and Flight Control Training Manual,\" ASC G&C 2102, \"During the vertical rise phase, the launch pad attitude is commanded until an I-loaded V(rel) sufficient to assure launch tower clearance is achieved. Then, the tilt maneuver (roll program) orients the vehicle to a heads down attitude required to generate a negative q-alpha, which in turn alleviates structural loading. Other advantages with this attitude are performance gain, decreased abort maneuver complexity, improved S-band look angles, and crew view of the horizon. The tilt maneuver is also required to start gaining downrange velocity to achieve the main engine cutoff (MECO) target in second stage.\" This really is a good answer, but it's couched in NASA jargon. I'll try to interpret. 1) We wait until the Shuttle clears the tower before rolling. 2) Then, we roll the Shuttle around so that the angle of attack between the wind caused by passage through the atmosphere (the \"relative wind\") and the chord of the wings (the imaginary line between the\n",
            "\n",
            "RESULT #3\n",
            "TEXT:\n",
            "\tAll of this talk about a COMMERCIAL space race (i.e. $1G to the first 1-year moon base) is intriguing. Similar prizes have influenced aerospace development before. The $25k Orteig prize helped Lindbergh sell his Spirit of Saint Louis venture to his financial backers. If memory serves, the $25k prize would not have been enough to totally reimburse some of the more expensive transatlantic projects (such as Fokker's, Nungesser and other multi-engine projects). However Lindbergh ultimately kept his total costs below that amount. But I strongly suspect that his Saint Louis backers had the foresight to realize that much more was at stake than $25,000. Could it work with the moon? Who are the far-sighted financial backers of today?\n",
            "\n"
          ],
          "name": "stdout"
        }
      ]
    },
    {
      "cell_type": "code",
      "metadata": {
        "id": "bxpGL60pCk0k",
        "colab_type": "code",
        "colab": {
          "base_uri": "https://localhost:8080/",
          "height": 1000
        },
        "outputId": "ee2b88ed-5c7a-4953-fc07-b2e414435e2e"
      },
      "source": [
        "print(tm.recommend(text=rawtext, n=1)[0][0])"
      ],
      "execution_count": 36,
      "outputs": [
        {
          "output_type": "stream",
          "text": [
            "Archive-name: space/new_probes\n",
            "Last-modified: $Date: 93/04/01 14:39:17 $\n",
            "\n",
            "UPCOMING PLANETARY PROBES - MISSIONS AND SCHEDULES\n",
            "\n",
            "    Information on upcoming or currently active missions not mentioned below\n",
            "    would be welcome. Sources: NASA fact sheets, Cassini Mission Design\n",
            "    team, ISAS/NASDA launch schedules, press kits.\n",
            "\n",
            "\n",
            "    ASUKA (ASTRO-D) - ISAS (Japan) X-ray astronomy satellite, launched into\n",
            "    Earth orbit on 2/20/93. Equipped with large-area wide-wavelength (1-20\n",
            "    Angstrom) X-ray telescope, X-ray CCD cameras, and imaging gas\n",
            "    scintillation proportional counters.\n",
            "\n",
            "\n",
            "    CASSINI - Saturn orbiter and Titan atmosphere probe. Cassini is a joint\n",
            "    NASA/ESA project designed to accomplish an exploration of the Saturnian\n",
            "    system with its Cassini Saturn Orbiter and Huygens Titan Probe. Cassini\n",
            "    is scheduled for launch aboard a Titan IV/Centaur in October of 1997.\n",
            "    After gravity assists of Venus, Earth and Jupiter in a VVEJGA\n",
            "    trajectory, the spacecraft will arrive at Saturn in June of 2004. Upon\n",
            "    arrival, the Cassini spacecraft performs several maneuvers to achieve an\n",
            "    orbit around Saturn. Near the end of this initial orbit, the Huygens\n",
            "    Probe separates from the Orbiter and descends through the atmosphere of\n",
            "    Titan. The Orbiter relays the Probe data to Earth for about 3 hours\n",
            "    while the Probe enters and traverses the cloudy atmosphere to the\n",
            "    surface. After the completion of the Probe mission, the Orbiter\n",
            "    continues touring the Saturnian system for three and a half years. Titan\n",
            "    synchronous orbit trajectories will allow about 35 flybys of Titan and\n",
            "    targeted flybys of Iapetus, Dione and Enceladus. The objectives of the\n",
            "    mission are threefold: conduct detailed studies of Saturn's atmosphere,\n",
            "    rings and magnetosphere; conduct close-up studies of Saturn's\n",
            "    satellites, and characterize Titan's atmosphere and surface.\n",
            "\n",
            "    One of the most intriguing aspects of Titan is the possibility that its\n",
            "    surface may be covered in part with lakes of liquid hydrocarbons that\n",
            "    result from photochemical processes in its upper atmosphere. These\n",
            "    hydrocarbons condense to form a global smog layer and eventually rain\n",
            "    down onto the surface. The Cassini orbiter will use onboard radar to\n",
            "    peer through Titan's clouds and determine if there is liquid on the\n",
            "    surface. Experiments aboard both the orbiter and the entry probe will\n",
            "    investigate the chemical processes that produce this unique atmosphere.\n",
            "\n",
            "    The Cassini mission is named for Jean Dominique Cassini (1625-1712), the\n",
            "    first director of the Paris Observatory, who discovered several of\n",
            "    Saturn's satellites and the major division in its rings. The Titan\n",
            "    atmospheric entry probe is named for the Dutch physicist Christiaan\n",
            "    Huygens (1629-1695), who discovered Titan and first described the true\n",
            "    nature of Saturn's rings.\n",
            "\n",
            "\t Key Scheduled Dates for the Cassini Mission (VVEJGA Trajectory)\n",
            "\t -------------------------------------------------------------\n",
            "\t   10/06/97 - Titan IV/Centaur Launch\n",
            "\t   04/21/98 - Venus 1 Gravity Assist\n",
            "\t   06/20/99 - Venus 2 Gravity Assist\n",
            "\t   08/16/99 - Earth Gravity Assist\n",
            "\t   12/30/00 - Jupiter Gravity Assist\n",
            "\t   06/25/04 - Saturn Arrival\n",
            "\t   01/09/05 - Titan Probe Release\n",
            "\t   01/30/05 - Titan Probe Entry\n",
            "\t   06/25/08 - End of Primary Mission\n",
            "\t    (Schedule last updated 7/22/92)\n",
            "\n",
            "\n",
            "    GALILEO - Jupiter orbiter and atmosphere probe, in transit. Has returned\n",
            "    the first resolved images of an asteroid, Gaspra, while in transit to\n",
            "    Jupiter. Efforts to unfurl the stuck High-Gain Antenna (HGA) have\n",
            "    essentially been abandoned. JPL has developed a backup plan using data\n",
            "    compression (JPEG-like for images, lossless compression for data from\n",
            "    the other instruments) which should allow the mission to achieve\n",
            "    approximately 70% of its original objectives.\n",
            "\n",
            "\t   Galileo Schedule\n",
            "\t   ----------------\n",
            "\t   10/18/89 - Launch from Space Shuttle\n",
            "\t   02/09/90 - Venus Flyby\n",
            "\t   10/**/90 - Venus Data Playback\n",
            "\t   12/08/90 - 1st Earth Flyby\n",
            "\t   05/01/91 - High Gain Antenna Unfurled\n",
            "\t   07/91 - 06/92 - 1st Asteroid Belt Passage\n",
            "\t   10/29/91 - Asteroid Gaspra Flyby\n",
            "\t   12/08/92 - 2nd Earth Flyby\n",
            "\t   05/93 - 11/93 - 2nd Asteroid Belt Passage\n",
            "\t   08/28/93 - Asteroid Ida Flyby\n",
            "\t   07/02/95 - Probe Separation\n",
            "\t   07/09/95 - Orbiter Deflection Maneuver\n",
            "\t   12/95 - 10/97 - Orbital Tour of Jovian Moons\n",
            "\t   12/07/95 - Jupiter/Io Encounter\n",
            "\t   07/18/96 - Ganymede\n",
            "\t   09/28/96 - Ganymede\n",
            "\t   12/12/96 - Callisto\n",
            "\t   01/23/97 - Europa\n",
            "\t   02/28/97 - Ganymede\n",
            "\t   04/22/97 - Europa\n",
            "\t   05/31/97 - Europa\n",
            "\t   10/05/97 - Jupiter Magnetotail Exploration\n",
            "\n",
            "\n",
            "    HITEN - Japanese (ISAS) lunar probe launched 1/24/90. Has made\n",
            "    multiple lunar flybys. Released Hagoromo, a smaller satellite,\n",
            "    into lunar orbit. This mission made Japan the third nation to\n",
            "    orbit a satellite around the Moon.\n",
            "\n",
            "\n",
            "    MAGELLAN - Venus radar mapping mission. Has mapped almost the entire\n",
            "    surface at high resolution. Currently (4/93) collecting a global gravity\n",
            "    map.\n",
            "\n",
            "\n",
            "    MARS OBSERVER - Mars orbiter including 1.5 m/pixel resolution camera.\n",
            "    Launched 9/25/92 on a Titan III/TOS booster. MO is currently (4/93) in\n",
            "    transit to Mars, arriving on 8/24/93. Operations will start 11/93 for\n",
            "    one martian year (687 days).\n",
            "\n",
            "\n",
            "    TOPEX/Poseidon - Joint US/French Earth observing satellite, launched\n",
            "    8/10/92 on an Ariane 4 booster. The primary objective of the\n",
            "    TOPEX/POSEIDON project is to make precise and accurate global\n",
            "    observations of the sea level for several years, substantially\n",
            "    increasing understanding of global ocean dynamics. The satellite also\n",
            "    will increase understanding of how heat is transported in the ocean.\n",
            "\n",
            "\n",
            "    ULYSSES- European Space Agency probe to study the Sun from an orbit over\n",
            "    its poles. Launched in late 1990, it carries particles-and-fields\n",
            "    experiments (such as magnetometer, ion and electron collectors for\n",
            "    various energy ranges, plasma wave radio receivers, etc.) but no camera.\n",
            "\n",
            "    Since no human-built rocket is hefty enough to send Ulysses far out of\n",
            "    the ecliptic plane, it went to Jupiter instead, and stole energy from\n",
            "    that planet by sliding over Jupiter's north pole in a gravity-assist\n",
            "    manuver in February 1992. This bent its path into a solar orbit tilted\n",
            "    about 85 degrees to the ecliptic. It will pass over the Sun's south pole\n",
            "    in the summer of 1993. Its aphelion is 5.2 AU, and, surprisingly, its\n",
            "    perihelion is about 1.5 AU-- that's right, a solar-studies spacecraft\n",
            "    that's always further from the Sun than the Earth is!\n",
            "\n",
            "    While in Jupiter's neigborhood, Ulysses studied the magnetic and\n",
            "    radiation environment. For a short summary of these results, see\n",
            "    *Science*, V. 257, p. 1487-1489 (11 September 1992). For gory technical\n",
            "    detail, see the many articles in the same issue.\n",
            "\n",
            "\n",
            "    OTHER SPACE SCIENCE MISSIONS (note: this is based on a posting by Ron\n",
            "    Baalke in 11/89, with ISAS/NASDA information contributed by Yoshiro\n",
            "    Yamada (yamada@yscvax.ysc.go.jp). I'm attempting to track changes based\n",
            "    on updated shuttle manifests; corrections and updates are welcome.\n",
            "\n",
            "    1993 Missions\n",
            "\to ALEXIS [spring, Pegasus]\n",
            "\t    ALEXIS (Array of Low-Energy X-ray Imaging Sensors) is to perform\n",
            "\t    a wide-field sky survey in the \"soft\" (low-energy) X-ray\n",
            "\t    spectrum. It will scan the entire sky every six months to search\n",
            "\t    for variations in soft-X-ray emission from sources such as white\n",
            "\t    dwarfs, cataclysmic variable stars and flare stars. It will also\n",
            "\t    search nearby space for such exotic objects as isolated neutron\n",
            "\t    stars and gamma-ray bursters. ALEXIS is a project of Los Alamos\n",
            "\t    National Laboratory and is primarily a technology development\n",
            "\t    mission that uses astrophysical sources to demonstrate the\n",
            "\t    technology. Contact project investigator Jeffrey J Bloch\n",
            "\t    (jjb@beta.lanl.gov) for more information.\n",
            "\n",
            "\to Wind [Aug, Delta II rocket]\n",
            "\t    Satellite to measure solar wind input to magnetosphere.\n",
            "\n",
            "\to Space Radar Lab [Sep, STS-60 SRL-01]\n",
            "\t    Gather radar images of Earth's surface.\n",
            "\n",
            "\to Total Ozone Mapping Spectrometer [Dec, Pegasus rocket]\n",
            "\t    Study of Stratospheric ozone.\n",
            "\n",
            "\to SFU (Space Flyer Unit) [ISAS]\n",
            "\t    Conducting space experiments and observations and this can be\n",
            "\t    recovered after it conducts the various scientific and\n",
            "\t    engineering experiments. SFU is to be launched by ISAS and\n",
            "\t    retrieved by the U.S. Space Shuttle on STS-68 in 1994.\n",
            "\n",
            "    1994\n",
            "\to Polar Auroral Plasma Physics [May, Delta II rocket]\n",
            "\t    June, measure solar wind and ions and gases surrounding the\n",
            "\t    Earth.\n",
            "\n",
            "\to IML-2 (STS) [NASDA, Jul 1994 IML-02]\n",
            "\t    International Microgravity Laboratory.\n",
            "\n",
            "\to ADEOS [NASDA]\n",
            "\t    Advanced Earth Observing Satellite.\n",
            "\n",
            "\to MUSES-B (Mu Space Engineering Satellite-B) [ISAS]\n",
            "\t    Conducting research on the precise mechanism of space structure\n",
            "\t    and in-space astronomical observations of electromagnetic waves.\n",
            "\n",
            "    1995\n",
            "\tLUNAR-A [ISAS]\n",
            "\t    Elucidating the crust structure and thermal construction of the\n",
            "\t    moon's interior.\n",
            "\n",
            "\n",
            "    Proposed Missions:\n",
            "\to Advanced X-ray Astronomy Facility (AXAF)\n",
            "\t    Possible launch from shuttle in 1995, AXAF is a space\n",
            "\t    observatory with a high resolution telescope. It would orbit for\n",
            "\t    15 years and study the mysteries and fate of the universe.\n",
            "\n",
            "\to Earth Observing System (EOS)\n",
            "\t    Possible launch in 1997, 1 of 6 US orbiting space platforms to\n",
            "\t    provide long-term data (15 years) of Earth systems science\n",
            "\t    including planetary evolution.\n",
            "\n",
            "\to Mercury Observer\n",
            "\t    Possible 1997 launch.\n",
            "\n",
            "\to Lunar Observer\n",
            "\t    Possible 1997 launch, would be sent into a long-term lunar\n",
            "\t    orbit. The Observer, from 60 miles above the moon's poles, would\n",
            "\t    survey characteristics to provide a global context for the\n",
            "\t    results from the Apollo program.\n",
            "\n",
            "\to Space Infrared Telescope Facility\n",
            "\t    Possible launch by shuttle in 1999, this is the 4th element of\n",
            "\t    the Great Observatories program. A free-flying observatory with\n",
            "\t    a lifetime of 5 to 10 years, it would observe new comets and\n",
            "\t    other primitive bodies in the outer solar system, study cosmic\n",
            "\t    birth formation of galaxies, stars and planets and distant\n",
            "\t    infrared-emitting galaxies\n",
            "\n",
            "\to Mars Rover Sample Return (MRSR)\n",
            "\t    Robotics rover would return samples of Mars' atmosphere and\n",
            "\t    surface to Earch for analysis. Possible launch dates: 1996 for\n",
            "\t    imaging orbiter, 2001 for rover.\n",
            "\n",
            "\to Fire and Ice\n",
            "\t    Possible launch in 2001, will use a gravity assist flyby of\n",
            "\t    Earth in 2003, and use a final gravity assist from Jupiter in\n",
            "\t    2005, where the probe will split into its Fire and Ice\n",
            "\t    components: The Fire probe will journey into the Sun, taking\n",
            "\t    measurements of our star's upper atmosphere until it is\n",
            "\t    vaporized by the intense heat. The Ice probe will head out\n",
            "\t    towards Pluto, reaching the tiny world for study by 2016.\n",
            "\n"
          ],
          "name": "stdout"
        }
      ]
    },
    {
      "cell_type": "code",
      "metadata": {
        "id": "T1BCg-0dCtiq",
        "colab_type": "code",
        "colab": {}
      },
      "source": [
        ""
      ],
      "execution_count": 0,
      "outputs": []
    }
  ]
}